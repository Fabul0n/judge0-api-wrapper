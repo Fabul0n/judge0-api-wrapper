{
 "cells": [
  {
   "cell_type": "code",
   "execution_count": 1,
   "metadata": {},
   "outputs": [],
   "source": [
    "import requests\n",
    "from dotenv import load_dotenv\n",
    "import os\n",
    "import json\n",
    "\n",
    "load_dotenv()\n",
    "JUDGE0_IP = os.getenv('JUDGE0_IP')"
   ]
  },
  {
   "cell_type": "code",
   "execution_count": 2,
   "metadata": {},
   "outputs": [],
   "source": [
    "session = requests.Session()\n",
    "session.headers[\"X-Auth-Token\"] = \"empty\"\n",
    "session.headers[\"X-Auth-User\"] = \"empty\"\n"
   ]
  },
  {
   "cell_type": "code",
   "execution_count": 3,
   "metadata": {},
   "outputs": [
    {
     "data": {
      "text/plain": [
       "<Response [200]>"
      ]
     },
     "execution_count": 3,
     "metadata": {},
     "output_type": "execute_result"
    }
   ],
   "source": [
    "authent_response = session.post(JUDGE0_IP+'/authenticate')\n",
    "authent_response"
   ]
  },
  {
   "cell_type": "code",
   "execution_count": 4,
   "metadata": {},
   "outputs": [
    {
     "data": {
      "text/plain": [
       "<Response [200]>"
      ]
     },
     "execution_count": 4,
     "metadata": {},
     "output_type": "execute_result"
    }
   ],
   "source": [
    "author_response = session.post(JUDGE0_IP+'/authorize')\n",
    "author_response"
   ]
  },
  {
   "cell_type": "code",
   "execution_count": 5,
   "metadata": {},
   "outputs": [
    {
     "data": {
      "text/plain": [
       "[{'id': 45, 'name': 'Assembly (NASM 2.14.02)'},\n",
       " {'id': 46, 'name': 'Bash (5.0.0)'},\n",
       " {'id': 47, 'name': 'Basic (FBC 1.07.1)'},\n",
       " {'id': 75, 'name': 'C (Clang 7.0.1)'},\n",
       " {'id': 76, 'name': 'C++ (Clang 7.0.1)'},\n",
       " {'id': 48, 'name': 'C (GCC 7.4.0)'},\n",
       " {'id': 52, 'name': 'C++ (GCC 7.4.0)'},\n",
       " {'id': 49, 'name': 'C (GCC 8.3.0)'},\n",
       " {'id': 53, 'name': 'C++ (GCC 8.3.0)'},\n",
       " {'id': 50, 'name': 'C (GCC 9.2.0)'},\n",
       " {'id': 54, 'name': 'C++ (GCC 9.2.0)'},\n",
       " {'id': 86, 'name': 'Clojure (1.10.1)'},\n",
       " {'id': 51, 'name': 'C# (Mono 6.6.0.161)'},\n",
       " {'id': 77, 'name': 'COBOL (GnuCOBOL 2.2)'},\n",
       " {'id': 55, 'name': 'Common Lisp (SBCL 2.0.0)'},\n",
       " {'id': 56, 'name': 'D (DMD 2.089.1)'},\n",
       " {'id': 57, 'name': 'Elixir (1.9.4)'},\n",
       " {'id': 58, 'name': 'Erlang (OTP 22.2)'},\n",
       " {'id': 44, 'name': 'Executable'},\n",
       " {'id': 87, 'name': 'F# (.NET Core SDK 3.1.202)'},\n",
       " {'id': 59, 'name': 'Fortran (GFortran 9.2.0)'},\n",
       " {'id': 60, 'name': 'Go (1.13.5)'},\n",
       " {'id': 88, 'name': 'Groovy (3.0.3)'},\n",
       " {'id': 61, 'name': 'Haskell (GHC 8.8.1)'},\n",
       " {'id': 62, 'name': 'Java (OpenJDK 13.0.1)'},\n",
       " {'id': 63, 'name': 'JavaScript (Node.js 12.14.0)'},\n",
       " {'id': 78, 'name': 'Kotlin (1.3.70)'},\n",
       " {'id': 64, 'name': 'Lua (5.3.5)'},\n",
       " {'id': 89, 'name': 'Multi-file program'},\n",
       " {'id': 79, 'name': 'Objective-C (Clang 7.0.1)'},\n",
       " {'id': 65, 'name': 'OCaml (4.09.0)'},\n",
       " {'id': 66, 'name': 'Octave (5.1.0)'},\n",
       " {'id': 67, 'name': 'Pascal (FPC 3.0.4)'},\n",
       " {'id': 85, 'name': 'Perl (5.28.1)'},\n",
       " {'id': 68, 'name': 'PHP (7.4.1)'},\n",
       " {'id': 43, 'name': 'Plain Text'},\n",
       " {'id': 69, 'name': 'Prolog (GNU Prolog 1.4.5)'},\n",
       " {'id': 70, 'name': 'Python (2.7.17)'},\n",
       " {'id': 71, 'name': 'Python (3.8.1)'},\n",
       " {'id': 80, 'name': 'R (4.0.0)'},\n",
       " {'id': 72, 'name': 'Ruby (2.7.0)'},\n",
       " {'id': 73, 'name': 'Rust (1.40.0)'},\n",
       " {'id': 81, 'name': 'Scala (2.13.2)'},\n",
       " {'id': 82, 'name': 'SQL (SQLite 3.27.2)'},\n",
       " {'id': 83, 'name': 'Swift (5.2.3)'},\n",
       " {'id': 74, 'name': 'TypeScript (3.7.4)'},\n",
       " {'id': 84, 'name': 'Visual Basic.Net (vbnc 0.0.0.5943)'}]"
      ]
     },
     "execution_count": 5,
     "metadata": {},
     "output_type": "execute_result"
    }
   ],
   "source": [
    "session.get(JUDGE0_IP+'/languages').json()"
   ]
  },
  {
   "cell_type": "code",
   "execution_count": 6,
   "metadata": {},
   "outputs": [],
   "source": [
    "submissions = session.get(JUDGE0_IP+'/submissions', headers={\"X-Auth-Token\": \"empty\", \"X-Auth-User\": \"empty\"})"
   ]
  },
  {
   "cell_type": "code",
   "execution_count": 42,
   "metadata": {},
   "outputs": [
    {
     "data": {
      "text/plain": [
       "{'submissions': [{'stdout': None,\n",
       "   'time': None,\n",
       "   'memory': None,\n",
       "   'stderr': None,\n",
       "   'token': 'a84a1658-02a8-43af-a303-07006d929cf8',\n",
       "   'compile_output': None,\n",
       "   'message': 'No such file or directory @ rb_sysopen - /box/script.py',\n",
       "   'status': {'id': 13, 'description': 'Internal Error'}},\n",
       "  {'stdout': None,\n",
       "   'time': None,\n",
       "   'memory': None,\n",
       "   'stderr': None,\n",
       "   'token': '88d38308-9fe3-4769-8b9c-cc0a25def7bf',\n",
       "   'compile_output': None,\n",
       "   'message': 'No such file or directory @ rb_sysopen - /box/script.py',\n",
       "   'status': {'id': 13, 'description': 'Internal Error'}},\n",
       "  {'stdout': None,\n",
       "   'time': None,\n",
       "   'memory': None,\n",
       "   'stderr': None,\n",
       "   'token': 'b6783a7d-835b-4d7e-bb26-1d19b9e04401',\n",
       "   'compile_output': None,\n",
       "   'message': 'No such file or directory @ rb_sysopen - /box/main.cpp',\n",
       "   'status': {'id': 13, 'description': 'Internal Error'}},\n",
       "  {'stdout': None,\n",
       "   'time': None,\n",
       "   'memory': None,\n",
       "   'stderr': None,\n",
       "   'token': 'f8c75694-83fb-44e1-8cd1-52e11491f498',\n",
       "   'compile_output': None,\n",
       "   'message': 'No such file or directory @ rb_sysopen - /box/main.cpp',\n",
       "   'status': {'id': 13, 'description': 'Internal Error'}},\n",
       "  {'stdout': None,\n",
       "   'time': None,\n",
       "   'memory': None,\n",
       "   'stderr': None,\n",
       "   'token': '4cf84da6-3410-465b-8b81-7eff203b1f70',\n",
       "   'compile_output': None,\n",
       "   'message': 'No such file or directory @ rb_sysopen - /box/main.cpp',\n",
       "   'status': {'id': 13, 'description': 'Internal Error'}}],\n",
       " 'meta': {'current_page': 1,\n",
       "  'next_page': None,\n",
       "  'prev_page': None,\n",
       "  'total_pages': 1,\n",
       "  'total_count': 5}}"
      ]
     },
     "execution_count": 42,
     "metadata": {},
     "output_type": "execute_result"
    }
   ],
   "source": [
    "submissions.json()"
   ]
  },
  {
   "cell_type": "code",
   "execution_count": 43,
   "metadata": {},
   "outputs": [],
   "source": [
    "payload = {\n",
    "  \"source_code\": \"cHJpbnQoMSk=\",\n",
    "  \"language_id\": 71\n",
    "}"
   ]
  },
  {
   "cell_type": "code",
   "execution_count": 44,
   "metadata": {},
   "outputs": [
    {
     "data": {
      "text/plain": [
       "<Response [201]>"
      ]
     },
     "execution_count": 44,
     "metadata": {},
     "output_type": "execute_result"
    }
   ],
   "source": [
    "add_submission = session.post(JUDGE0_IP+'/submissions', json=payload, params={\"base64_encoded\": \"true\"})\n",
    "add_submission"
   ]
  },
  {
   "cell_type": "code",
   "execution_count": 45,
   "metadata": {},
   "outputs": [
    {
     "data": {
      "text/plain": [
       "'35dbdb81-9e54-4f45-80dc-909780262f41'"
      ]
     },
     "execution_count": 45,
     "metadata": {},
     "output_type": "execute_result"
    }
   ],
   "source": [
    "token = json.loads(add_submission.text)['token']\n",
    "token"
   ]
  },
  {
   "cell_type": "code",
   "execution_count": 49,
   "metadata": {},
   "outputs": [
    {
     "data": {
      "text/plain": [
       "{'stdout': None,\n",
       " 'time': None,\n",
       " 'memory': None,\n",
       " 'stderr': None,\n",
       " 'token': '35dbdb81-9e54-4f45-80dc-909780262f41',\n",
       " 'compile_output': None,\n",
       " 'message': None,\n",
       " 'status': {'id': 6, 'description': 'Compilation Error'}}"
      ]
     },
     "execution_count": 49,
     "metadata": {},
     "output_type": "execute_result"
    }
   ],
   "source": [
    "get_submission = session.get(JUDGE0_IP+'/submissions/'+token)\n",
    "get_submission.json()"
   ]
  },
  {
   "cell_type": "code",
   "execution_count": 40,
   "metadata": {},
   "outputs": [
    {
     "data": {
      "text/plain": [
       "{'stdout': None,\n",
       " 'time': None,\n",
       " 'memory': None,\n",
       " 'stderr': None,\n",
       " 'token': '8fc85efb-1399-45bf-8d8d-4666bacf9c99',\n",
       " 'compile_output': None,\n",
       " 'message': None,\n",
       " 'status': {'id': 2, 'description': 'Processing'}}"
      ]
     },
     "execution_count": 40,
     "metadata": {},
     "output_type": "execute_result"
    }
   ],
   "source": [
    "get_submission.json()"
   ]
  },
  {
   "cell_type": "code",
   "execution_count": null,
   "metadata": {},
   "outputs": [],
   "source": []
  }
 ],
 "metadata": {
  "kernelspec": {
   "display_name": "venv",
   "language": "python",
   "name": "python3"
  },
  "language_info": {
   "codemirror_mode": {
    "name": "ipython",
    "version": 3
   },
   "file_extension": ".py",
   "mimetype": "text/x-python",
   "name": "python",
   "nbconvert_exporter": "python",
   "pygments_lexer": "ipython3",
   "version": "3.13.1"
  }
 },
 "nbformat": 4,
 "nbformat_minor": 2
}
